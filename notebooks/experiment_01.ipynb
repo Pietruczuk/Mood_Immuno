{
 "cells": [
  {
   "metadata": {},
   "cell_type": "markdown",
   "source": "### Skrypt tworzenia nowej bazy danych w konkretnym katalogu",
   "id": "5f12ed9af838b2a8"
  },
  {
   "metadata": {
    "collapsed": true,
    "ExecuteTime": {
     "end_time": "2025-04-13T21:52:16.077526Z",
     "start_time": "2025-04-13T21:52:15.898340Z"
    }
   },
   "cell_type": "code",
   "outputs": [
    {
     "name": "stdout",
     "output_type": "stream",
     "text": [
      "📦 Baza danych została utworzona.\n"
     ]
    }
   ],
   "execution_count": 1,
   "source": [
    "import os                                                # Standardowy moduł Pythona do pracy z systemem plików\n",
    "from src.database.db_init import init_db                 # Importuje funkcję init_db() z pliku db_init.py która tworzy: silnik bazy, tabele\n",
    "\n",
    "db_path = os.path.abspath(\"c:/Users/amund/Desktop/github/Mood_Immuno/data/pubmed.db\")  # Ścieżka gdzie ma powstać baza\n",
    "os.makedirs(os.path.dirname(db_path), exist_ok=True)                                   # Sprawdzenie, czy istnieje katalog, gdzie ma powstać baza\n",
    "\n",
    "session = init_db(f\"sqlite:///{db_path}\")                # Wywołuje funkcję init_db, przekazując jej pełną ścieżkę do bazy\n",
    "print(\"📦 Baza danych została utworzona.\")\n"
   ],
   "id": "initial_id"
  },
  {
   "metadata": {},
   "cell_type": "code",
   "outputs": [],
   "execution_count": null,
   "source": "",
   "id": "e04d865fde87500c"
  }
 ],
 "metadata": {
  "kernelspec": {
   "display_name": "Python 3",
   "language": "python",
   "name": "python3"
  },
  "language_info": {
   "codemirror_mode": {
    "name": "ipython",
    "version": 2
   },
   "file_extension": ".py",
   "mimetype": "text/x-python",
   "name": "python",
   "nbconvert_exporter": "python",
   "pygments_lexer": "ipython2",
   "version": "2.7.6"
  }
 },
 "nbformat": 4,
 "nbformat_minor": 5
}
